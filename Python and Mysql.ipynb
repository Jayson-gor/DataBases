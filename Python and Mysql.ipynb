{
 "cells": [
  {
   "cell_type": "code",
   "execution_count": 1,
   "id": "a8c453d7",
   "metadata": {},
   "outputs": [],
   "source": [
    "import pandas as pd\n",
    "import mysql.connector\n",
    "from mysql.connector import Error\n"
   ]
  },
  {
   "cell_type": "code",
   "execution_count": 3,
   "id": "9179898e",
   "metadata": {},
   "outputs": [
    {
     "ename": "AttributeError",
     "evalue": "Unsupported argument 'psswd'",
     "output_type": "error",
     "traceback": [
      "\u001b[1;31m---------------------------------------------------------------------------\u001b[0m",
      "\u001b[1;31mAttributeError\u001b[0m                            Traceback (most recent call last)",
      "Cell \u001b[1;32mIn[3], line 17\u001b[0m\n\u001b[0;32m     15\u001b[0m pw \u001b[38;5;241m=\u001b[39m \u001b[38;5;124m\"\u001b[39m\u001b[38;5;124mComfortzone\u001b[39m\u001b[38;5;124m\"\u001b[39m\n\u001b[0;32m     16\u001b[0m db \u001b[38;5;241m=\u001b[39m \u001b[38;5;124m\"\u001b[39m\u001b[38;5;124mtestdb\u001b[39m\u001b[38;5;124m\"\u001b[39m\n\u001b[1;32m---> 17\u001b[0m connection \u001b[38;5;241m=\u001b[39m \u001b[43mcreate_server_connection\u001b[49m\u001b[43m(\u001b[49m\u001b[38;5;124;43m\"\u001b[39;49m\u001b[38;5;124;43mlocalhost\u001b[39;49m\u001b[38;5;124;43m\"\u001b[39;49m\u001b[43m,\u001b[49m\u001b[43m \u001b[49m\u001b[38;5;124;43m\"\u001b[39;49m\u001b[38;5;124;43mroot\u001b[39;49m\u001b[38;5;124;43m\"\u001b[39;49m\u001b[43m,\u001b[49m\u001b[43m \u001b[49m\u001b[43mpw\u001b[49m\u001b[43m)\u001b[49m\n",
      "Cell \u001b[1;32mIn[3], line 4\u001b[0m, in \u001b[0;36mcreate_server_connection\u001b[1;34m(host_name, user_name, user_password)\u001b[0m\n\u001b[0;32m      2\u001b[0m connection \u001b[38;5;241m=\u001b[39m \u001b[38;5;28;01mNone\u001b[39;00m\n\u001b[0;32m      3\u001b[0m \u001b[38;5;28;01mtry\u001b[39;00m:\n\u001b[1;32m----> 4\u001b[0m     connection \u001b[38;5;241m=\u001b[39m \u001b[43mmysql\u001b[49m\u001b[38;5;241;43m.\u001b[39;49m\u001b[43mconnector\u001b[49m\u001b[38;5;241;43m.\u001b[39;49m\u001b[43mconnect\u001b[49m\u001b[43m(\u001b[49m\n\u001b[0;32m      5\u001b[0m \u001b[43m        \u001b[49m\u001b[43mhost\u001b[49m\u001b[43m \u001b[49m\u001b[38;5;241;43m=\u001b[39;49m\u001b[43m \u001b[49m\u001b[43mhost_name\u001b[49m\u001b[43m,\u001b[49m\n\u001b[0;32m      6\u001b[0m \u001b[43m        \u001b[49m\u001b[43muser\u001b[49m\u001b[43m \u001b[49m\u001b[38;5;241;43m=\u001b[39;49m\u001b[43m \u001b[49m\u001b[43muser_name\u001b[49m\u001b[43m,\u001b[49m\n\u001b[0;32m      7\u001b[0m \u001b[43m        \u001b[49m\u001b[43mpsswd\u001b[49m\u001b[43m \u001b[49m\u001b[38;5;241;43m=\u001b[39;49m\u001b[43m \u001b[49m\u001b[43muser_password\u001b[49m\n\u001b[0;32m      8\u001b[0m \u001b[43m    \u001b[49m\u001b[43m)\u001b[49m\n\u001b[0;32m      9\u001b[0m     \u001b[38;5;28mprint\u001b[39m(\u001b[38;5;124m\"\u001b[39m\u001b[38;5;124mMysql database connection successful\u001b[39m\u001b[38;5;124m\"\u001b[39m)\n\u001b[0;32m     10\u001b[0m \u001b[38;5;28;01mexcept\u001b[39;00m Error \u001b[38;5;28;01mas\u001b[39;00m err:\n",
      "File \u001b[1;32m~\\AppData\\Local\\Programs\\Python\\Python310\\lib\\site-packages\\mysql\\connector\\pooling.py:293\u001b[0m, in \u001b[0;36mconnect\u001b[1;34m(*args, **kwargs)\u001b[0m\n\u001b[0;32m    290\u001b[0m         \u001b[38;5;28;01mraise\u001b[39;00m \u001b[38;5;167;01mImportError\u001b[39;00m(ERROR_NO_CEXT)\n\u001b[0;32m    292\u001b[0m \u001b[38;5;28;01mif\u001b[39;00m CMySQLConnection \u001b[38;5;129;01mand\u001b[39;00m \u001b[38;5;129;01mnot\u001b[39;00m use_pure:\n\u001b[1;32m--> 293\u001b[0m     \u001b[38;5;28;01mreturn\u001b[39;00m CMySQLConnection(\u001b[38;5;241m*\u001b[39margs, \u001b[38;5;241m*\u001b[39m\u001b[38;5;241m*\u001b[39mkwargs)\n\u001b[0;32m    294\u001b[0m \u001b[38;5;28;01mreturn\u001b[39;00m MySQLConnection(\u001b[38;5;241m*\u001b[39margs, \u001b[38;5;241m*\u001b[39m\u001b[38;5;241m*\u001b[39mkwargs)\n",
      "File \u001b[1;32m~\\AppData\\Local\\Programs\\Python\\Python310\\lib\\site-packages\\mysql\\connector\\connection_cext.py:120\u001b[0m, in \u001b[0;36mCMySQLConnection.__init__\u001b[1;34m(self, **kwargs)\u001b[0m\n\u001b[0;32m    117\u001b[0m \u001b[38;5;28msuper\u001b[39m()\u001b[38;5;241m.\u001b[39m\u001b[38;5;21m__init__\u001b[39m()\n\u001b[0;32m    119\u001b[0m \u001b[38;5;28;01mif\u001b[39;00m kwargs:\n\u001b[1;32m--> 120\u001b[0m     \u001b[38;5;28mself\u001b[39m\u001b[38;5;241m.\u001b[39mconnect(\u001b[38;5;241m*\u001b[39m\u001b[38;5;241m*\u001b[39mkwargs)\n",
      "File \u001b[1;32m~\\AppData\\Local\\Programs\\Python\\Python310\\lib\\site-packages\\mysql\\connector\\abstracts.py:1178\u001b[0m, in \u001b[0;36mMySQLConnectionAbstract.connect\u001b[1;34m(self, **kwargs)\u001b[0m\n\u001b[0;32m   1171\u001b[0m \u001b[38;5;250m\u001b[39m\u001b[38;5;124;03m\"\"\"Connect to the MySQL server\u001b[39;00m\n\u001b[0;32m   1172\u001b[0m \n\u001b[0;32m   1173\u001b[0m \u001b[38;5;124;03mThis method sets up the connection to the MySQL server. If no\u001b[39;00m\n\u001b[0;32m   1174\u001b[0m \u001b[38;5;124;03marguments are given, it will use the already configured or default\u001b[39;00m\n\u001b[0;32m   1175\u001b[0m \u001b[38;5;124;03mvalues.\u001b[39;00m\n\u001b[0;32m   1176\u001b[0m \u001b[38;5;124;03m\"\"\"\u001b[39;00m\n\u001b[0;32m   1177\u001b[0m \u001b[38;5;28;01mif\u001b[39;00m kwargs:\n\u001b[1;32m-> 1178\u001b[0m     \u001b[38;5;28mself\u001b[39m\u001b[38;5;241m.\u001b[39mconfig(\u001b[38;5;241m*\u001b[39m\u001b[38;5;241m*\u001b[39mkwargs)\n\u001b[0;32m   1180\u001b[0m \u001b[38;5;28mself\u001b[39m\u001b[38;5;241m.\u001b[39mdisconnect()\n\u001b[0;32m   1181\u001b[0m \u001b[38;5;28mself\u001b[39m\u001b[38;5;241m.\u001b[39m_open_connection()\n",
      "File \u001b[1;32m~\\AppData\\Local\\Programs\\Python\\Python310\\lib\\site-packages\\mysql\\connector\\abstracts.py:627\u001b[0m, in \u001b[0;36mMySQLConnectionAbstract.config\u001b[1;34m(self, **kwargs)\u001b[0m\n\u001b[0;32m    625\u001b[0m     DEFAULT_CONFIGURATION[key]\n\u001b[0;32m    626\u001b[0m \u001b[38;5;28;01mexcept\u001b[39;00m \u001b[38;5;167;01mKeyError\u001b[39;00m:\n\u001b[1;32m--> 627\u001b[0m     \u001b[38;5;28;01mraise\u001b[39;00m \u001b[38;5;167;01mAttributeError\u001b[39;00m(\u001b[38;5;124mf\u001b[39m\u001b[38;5;124m\"\u001b[39m\u001b[38;5;124mUnsupported argument \u001b[39m\u001b[38;5;124m'\u001b[39m\u001b[38;5;132;01m{\u001b[39;00mkey\u001b[38;5;132;01m}\u001b[39;00m\u001b[38;5;124m'\u001b[39m\u001b[38;5;124m\"\u001b[39m) \u001b[38;5;28;01mfrom\u001b[39;00m \u001b[38;5;28;01mNone\u001b[39;00m\n\u001b[0;32m    628\u001b[0m \u001b[38;5;66;03m# SSL Configuration\u001b[39;00m\n\u001b[0;32m    629\u001b[0m \u001b[38;5;28;01mif\u001b[39;00m key\u001b[38;5;241m.\u001b[39mstartswith(\u001b[38;5;124m\"\u001b[39m\u001b[38;5;124mssl_\u001b[39m\u001b[38;5;124m\"\u001b[39m):\n",
      "\u001b[1;31mAttributeError\u001b[0m: Unsupported argument 'psswd'"
     ]
    }
   ],
   "source": [
    "def create_server_connection(host_name, user_name, user_password):\n",
    "    connection = None\n",
    "    try:\n",
    "        connection = mysql.connector.connect(\n",
    "            host = host_name,\n",
    "            user = user_name,\n",
    "            psswd = user_password\n",
    "        )\n",
    "        print(\"Mysql database connection successful\")\n",
    "    except Error as err:\n",
    "        print(f\"Error: '{err}'\")\n",
    "    return connection\n",
    "\n",
    "\n",
    "pw = \"Comfortzone\"\n",
    "db = \"testdb\"\n",
    "connection = create_server_connection(\"localhost\", \"root\", pw)\n"
   ]
  },
  {
   "cell_type": "code",
   "execution_count": 4,
   "id": "8ba30656",
   "metadata": {},
   "outputs": [
    {
     "name": "stdout",
     "output_type": "stream",
     "text": [
      "MySQL database connection successful\n"
     ]
    }
   ],
   "source": [
    "import mysql.connector\n",
    "from mysql.connector import Error\n",
    "\n",
    "def create_server_connection(host_name, user_name, user_password):\n",
    "    connection = None\n",
    "    try:\n",
    "        connection = mysql.connector.connect(\n",
    "            host=host_name,\n",
    "            user=user_name,\n",
    "            password=user_password\n",
    "        )\n",
    "        print(\"MySQL database connection successful\")\n",
    "    except Error as err:\n",
    "        print(f\"Error: '{err}'\")\n",
    "    return connection\n",
    "\n",
    "pw = \"Comfortzone\"\n",
    "db = \"testdb\"\n",
    "connection = create_server_connection(\"localhost\", \"root\", pw)\n"
   ]
  },
  {
   "cell_type": "code",
   "execution_count": 6,
   "id": "16d12f8b",
   "metadata": {},
   "outputs": [
    {
     "name": "stdout",
     "output_type": "stream",
     "text": [
      "MySQL database connection successful\n",
      "[('customers',), ('departments',), ('events',), ('jay',), ('jayy',), ('manjivaa',), ('ndula',), ('ndula_new',), ('ndula_view',), ('orders',)]\n"
     ]
    }
   ],
   "source": [
    "import mysql.connector\n",
    "from mysql.connector import Error\n",
    "\n",
    "def create_server_connection(host_name, user_name, user_password, db_name):\n",
    "    connection = None\n",
    "    try:\n",
    "        connection = mysql.connector.connect(\n",
    "            host=host_name,\n",
    "            user=user_name,\n",
    "            passwd=user_password,\n",
    "            database=db_name\n",
    "        )\n",
    "        print(\"MySQL database connection successful\")\n",
    "    except Error as err:\n",
    "        print(f\"Error: '{err}'\")\n",
    "    return connection\n",
    "\n",
    "def list_tables(connection):\n",
    "    cursor = connection.cursor()\n",
    "    try:\n",
    "        cursor.execute(\"SHOW TABLES\")\n",
    "        tables = cursor.fetchall()\n",
    "        return tables\n",
    "    except Error as err:\n",
    "        print(f\"Error: '{err}'\")\n",
    "\n",
    "pw = \"Comfortzone\"\n",
    "db = \"testdb\"\n",
    "connection = create_server_connection(\"localhost\", \"root\", pw, db)\n",
    "\n",
    "# Select the database\n",
    "cursor = connection.cursor()\n",
    "cursor.execute(f\"USE {db}\")\n",
    "\n",
    "# List tables\n",
    "tables_list = list_tables(connection)\n",
    "print(tables_list)\n"
   ]
  },
  {
   "cell_type": "code",
   "execution_count": 9,
   "id": "8699566c",
   "metadata": {},
   "outputs": [
    {
     "name": "stdout",
     "output_type": "stream",
     "text": [
      "DB created successfully\n"
     ]
    }
   ],
   "source": [
    "# creating jayson database\n",
    "def create_database (connection, query):\n",
    "    cursor = connection.cursor()\n",
    "    try:\n",
    "        cursor.execute(query)\n",
    "        print(\"DB created successfully\")\n",
    "    except Error as err:\n",
    "        print(f\"Error: '{err}'\")\n",
    "        \n",
    "create_database_query = \"Create database Jayson\"\n",
    "create_database(connection, create_database_query)"
   ]
  },
  {
   "cell_type": "code",
   "execution_count": 11,
   "id": "66202673",
   "metadata": {},
   "outputs": [],
   "source": [
    "# Executing sql queries\n",
    "def execute_query (connection, query):\n",
    "    cursor = connection.cursor()\n",
    "    try:\n",
    "        cursor.execute(query)\n",
    "        connection.commit()\n",
    "        print(\"Query was successful\")\n",
    "    except Error as err:\n",
    "        print(f\"Error: '{err}'\")"
   ]
  },
  {
   "cell_type": "code",
   "execution_count": 18,
   "id": "c7f881b2",
   "metadata": {},
   "outputs": [
    {
     "name": "stdout",
     "output_type": "stream",
     "text": [
      "MySQL database connection successful\n",
      "Query was successful\n"
     ]
    }
   ],
   "source": [
    "#creating tables\n",
    "create_details_table = \"\"\"\n",
    "create table details(\n",
    "kenyan_id int primary key,\n",
    "Fname varchar(30) not null,\n",
    "Mname varchar(30) not null,\n",
    "Lname varchar(30) not null,\n",
    "D_O_B date,\n",
    "location varchar(20) not null);\n",
    "\"\"\"\n",
    "\n",
    "connection = create_server_connection(\"localhost\", \"root\", pw, db)\n",
    "execute_query(connection, create_details_table)"
   ]
  },
  {
   "cell_type": "raw",
   "id": "fcfd7587",
   "metadata": {},
   "source": [
    "import mysql.connector\n",
    "from mysql.connector import Error\n",
    "\n",
    "def create_server_connection(host_name, user_name, user_password):\n",
    "    connection = None\n",
    "    try:\n",
    "        connection = mysql.connector.connect(\n",
    "            host=host_name,\n",
    "            user=user_name,\n",
    "            password=user_password\n",
    "        )\n",
    "        print(\"MySQL database connection successful\")\n",
    "    except Error as err:\n",
    "        print(f\"Error: '{err}'\")\n",
    "    return connection\n",
    "\n",
    "pw = \"Comfortzone\"\n",
    "db = \"testdb\"\n",
    "connection = create_server_connection(\"localhost\", \"root\", pw)"
   ]
  },
  {
   "cell_type": "code",
   "execution_count": 24,
   "id": "0b36bb03",
   "metadata": {},
   "outputs": [
    {
     "name": "stdout",
     "output_type": "stream",
     "text": [
      "MySQL database connection successful\n"
     ]
    }
   ],
   "source": [
    "import mysql.connector\n",
    "from mysql.connector import Error\n",
    "\n",
    "def create_server_connection(host_name, user_name, user_password, db_name = None):\n",
    "    connection = None\n",
    "    try:\n",
    "        connection = mysql.connector.connect(\n",
    "            host=host_name,\n",
    "            user=user_name,\n",
    "            password=user_password,\n",
    "            database = db_name\n",
    "        )\n",
    "        print(\"MySQL database connection successful\")\n",
    "    except Error as err:\n",
    "        print(f\"Error: '{err}'\")\n",
    "    return connection\n",
    "\n",
    "pw = \"Comfortzone\"\n",
    "db = \"jayson\"\n",
    "connection = create_server_connection(\"localhost\", \"root\", pw)"
   ]
  },
  {
   "cell_type": "code",
   "execution_count": 25,
   "id": "75907c4a",
   "metadata": {},
   "outputs": [
    {
     "name": "stdout",
     "output_type": "stream",
     "text": [
      "MySQL database connection successful\n",
      "Query was successful\n"
     ]
    }
   ],
   "source": [
    "#creating tables\n",
    "create_details_table = \"\"\"\n",
    "create table details(\n",
    "kenyan_id int primary key,\n",
    "Fname varchar(30) not null,\n",
    "Mname varchar(30) not null,\n",
    "Lname varchar(30) not null,\n",
    "D_O_B date,\n",
    "location varchar(20) not null);\n",
    "\"\"\"\n",
    "\n",
    "connection = create_server_connection(\"localhost\", \"root\", pw, db)\n",
    "execute_query(connection, create_details_table)"
   ]
  },
  {
   "cell_type": "code",
   "execution_count": 42,
   "id": "b41648ed",
   "metadata": {},
   "outputs": [
    {
     "name": "stdout",
     "output_type": "stream",
     "text": [
      "MySQL database connection successful\n",
      "Query executed successfully.\n"
     ]
    }
   ],
   "source": [
    "#adding data\n",
    "data_details = \"\"\"\n",
    "insert into details values\n",
    "(34914069, \"Jayson\", \"Ouko\", \"Gor\", '1998-01-09', \"Nairobi\"),\n",
    "(30884315, \"Barry\", \"Osewe\", \"Senior\", '1996-01-09', \"Nairobi\"),\n",
    "(31994569, \"Edwin\", \"Okun\", \"Ochieng\", '1995-03-09', \"Nairobi\"),\n",
    "(32914369, \"Joannes\", \"Omondi\", \"Ochieng\", '1998-01-06', \"Nairobi\");\n",
    "\"\"\"\n",
    "\n",
    "connection = create_server_connection(\"localhost\", \"root\", pw, db)\n",
    "execute_query(connection, data_details)"
   ]
  },
  {
   "cell_type": "code",
   "execution_count": 41,
   "id": "9e643f64",
   "metadata": {},
   "outputs": [],
   "source": [
    "def execute_query(connection, query):\n",
    "    cursor = connection.cursor()\n",
    "    try:\n",
    "        cursor.execute(query)\n",
    "        connection.commit()  # Commit changes to the database\n",
    "        print(\"Query executed successfully.\")\n",
    "    except Error as err:\n",
    "        connection.rollback()  # Rollback changes in case of an error\n",
    "        print(f\"Error: {err}\")\n",
    "    finally:\n",
    "        cursor.close()\n",
    "\n"
   ]
  },
  {
   "cell_type": "code",
   "execution_count": 43,
   "id": "dbca211f",
   "metadata": {},
   "outputs": [],
   "source": [
    "def read_query (connection, query):\n",
    "    cursor = connection.cursor()\n",
    "    result = None\n",
    "    try:\n",
    "        cursor.execute(query)\n",
    "        result = cursor.fetchall()\n",
    "        return result\n",
    "    except Error as err:\n",
    "        print(f\"Error: '{err}'\")\n",
    "        \n",
    "        "
   ]
  },
  {
   "cell_type": "code",
   "execution_count": 45,
   "id": "23c06d0f",
   "metadata": {},
   "outputs": [
    {
     "name": "stdout",
     "output_type": "stream",
     "text": [
      "MySQL database connection successful\n",
      "(30884315, 'Barry', 'Osewe', 'Senior', datetime.date(1996, 1, 9), 'Nairobi')\n",
      "(31994569, 'Edwin', 'Okun', 'Ochieng', datetime.date(1995, 3, 9), 'Nairobi')\n",
      "(32914369, 'Joannes', 'Omondi', 'Ochieng', datetime.date(1998, 1, 6), 'Nairobi')\n",
      "(34914069, 'Jayson', 'Ouko', 'Gor', datetime.date(1998, 1, 9), 'Nairobi')\n"
     ]
    }
   ],
   "source": [
    "#using the select statement\n",
    "q1 = \"\"\"\n",
    "select * from details;\n",
    "\"\"\"\n",
    "\n",
    "connection = create_server_connection(\"localhost\", \"root\", pw, db)\n",
    "\n",
    "results = read_query(connection, q1)\n",
    "for result in results:\n",
    "    print(result)"
   ]
  },
  {
   "cell_type": "code",
   "execution_count": 46,
   "id": "b1101043",
   "metadata": {},
   "outputs": [
    {
     "name": "stdout",
     "output_type": "stream",
     "text": [
      "MySQL database connection successful\n",
      "(30884315, 'Barry', 'Osewe', datetime.date(1996, 1, 9))\n",
      "(31994569, 'Edwin', 'Okun', datetime.date(1995, 3, 9))\n",
      "(32914369, 'Joannes', 'Omondi', datetime.date(1998, 1, 6))\n",
      "(34914069, 'Jayson', 'Ouko', datetime.date(1998, 1, 9))\n"
     ]
    }
   ],
   "source": [
    "#selecting few columns\n",
    "q2 = \"\"\"\n",
    "select kenyan_id, Fname, Mname, D_O_B from details;\n",
    "\"\"\"\n",
    "\n",
    "connection = create_server_connection(\"localhost\", \"root\", pw, db)\n",
    "\n",
    "results = read_query(connection, q2)\n",
    "for result in results:\n",
    "    print(result)"
   ]
  },
  {
   "cell_type": "code",
   "execution_count": 47,
   "id": "6d4576d0",
   "metadata": {},
   "outputs": [
    {
     "name": "stdout",
     "output_type": "stream",
     "text": [
      "MySQL database connection successful\n",
      "(1996,)\n",
      "(1995,)\n",
      "(1998,)\n"
     ]
    }
   ],
   "source": [
    "#selecting few columns\n",
    "q3 = \"\"\"\n",
    "select distinct year(D_O_B) from details;\n",
    "\"\"\"\n",
    "\n",
    "connection = create_server_connection(\"localhost\", \"root\", pw, db)\n",
    "\n",
    "results = read_query(connection, q3)\n",
    "for result in results:\n",
    "    print(result)"
   ]
  },
  {
   "cell_type": "code",
   "execution_count": 51,
   "id": "a8d69866",
   "metadata": {},
   "outputs": [
    {
     "name": "stdout",
     "output_type": "stream",
     "text": [
      "MySQL database connection successful\n",
      "(30884315, 'Barry', 'Osewe', 'Senior', datetime.date(1996, 1, 9), 'Nairobi')\n",
      "(31994569, 'Edwin', 'Okun', 'Ochieng', datetime.date(1995, 3, 9), 'Nairobi')\n",
      "(32914369, 'Joannes', 'Omondi', 'Ochieng', datetime.date(1998, 1, 6), 'Nairobi')\n",
      "(34914069, 'Jayson', 'Ouko', 'Gor', datetime.date(1998, 1, 9), 'Nairobi')\n"
     ]
    },
    {
     "data": {
      "text/html": [
       "<div>\n",
       "<style scoped>\n",
       "    .dataframe tbody tr th:only-of-type {\n",
       "        vertical-align: middle;\n",
       "    }\n",
       "\n",
       "    .dataframe tbody tr th {\n",
       "        vertical-align: top;\n",
       "    }\n",
       "\n",
       "    .dataframe thead th {\n",
       "        text-align: right;\n",
       "    }\n",
       "</style>\n",
       "<table border=\"1\" class=\"dataframe\">\n",
       "  <thead>\n",
       "    <tr style=\"text-align: right;\">\n",
       "      <th></th>\n",
       "      <th>kenyan_id</th>\n",
       "      <th>Fname</th>\n",
       "      <th>Mname</th>\n",
       "      <th>Lname</th>\n",
       "      <th>D_O_B</th>\n",
       "      <th>location</th>\n",
       "    </tr>\n",
       "  </thead>\n",
       "  <tbody>\n",
       "    <tr>\n",
       "      <th>0</th>\n",
       "      <td>30884315</td>\n",
       "      <td>Barry</td>\n",
       "      <td>Osewe</td>\n",
       "      <td>Senior</td>\n",
       "      <td>1996-01-09</td>\n",
       "      <td>Nairobi</td>\n",
       "    </tr>\n",
       "    <tr>\n",
       "      <th>1</th>\n",
       "      <td>31994569</td>\n",
       "      <td>Edwin</td>\n",
       "      <td>Okun</td>\n",
       "      <td>Ochieng</td>\n",
       "      <td>1995-03-09</td>\n",
       "      <td>Nairobi</td>\n",
       "    </tr>\n",
       "    <tr>\n",
       "      <th>2</th>\n",
       "      <td>32914369</td>\n",
       "      <td>Joannes</td>\n",
       "      <td>Omondi</td>\n",
       "      <td>Ochieng</td>\n",
       "      <td>1998-01-06</td>\n",
       "      <td>Nairobi</td>\n",
       "    </tr>\n",
       "    <tr>\n",
       "      <th>3</th>\n",
       "      <td>34914069</td>\n",
       "      <td>Jayson</td>\n",
       "      <td>Ouko</td>\n",
       "      <td>Gor</td>\n",
       "      <td>1998-01-09</td>\n",
       "      <td>Nairobi</td>\n",
       "    </tr>\n",
       "  </tbody>\n",
       "</table>\n",
       "</div>"
      ],
      "text/plain": [
       "   kenyan_id    Fname   Mname    Lname       D_O_B location\n",
       "0   30884315    Barry   Osewe   Senior  1996-01-09  Nairobi\n",
       "1   31994569    Edwin    Okun  Ochieng  1995-03-09  Nairobi\n",
       "2   32914369  Joannes  Omondi  Ochieng  1998-01-06  Nairobi\n",
       "3   34914069   Jayson    Ouko      Gor  1998-01-09  Nairobi"
      ]
     },
     "execution_count": 51,
     "metadata": {},
     "output_type": "execute_result"
    }
   ],
   "source": [
    "#using the select statement\n",
    "q1 = \"\"\"\n",
    "select * from details;\n",
    "\"\"\"\n",
    "\n",
    "connection = create_server_connection(\"localhost\", \"root\", pw, db)\n",
    "\n",
    "results = read_query(connection, q1)\n",
    "for result in results:\n",
    "    print(result)\n",
    "\n",
    "\n",
    "from_db = []\n",
    "\n",
    "for result in results:\n",
    "    result = list(result)\n",
    "    from_db.append(result)\n",
    "    \n",
    "columns = [\"kenyan_id\", \"Fname\",\"Mname\",\"Lname\",\"D_O_B\",\"location\"]\n",
    "df = pd.DataFrame(from_db, columns = columns)\n",
    "df"
   ]
  },
  {
   "cell_type": "code",
   "execution_count": null,
   "id": "e3d08dfe",
   "metadata": {},
   "outputs": [],
   "source": []
  }
 ],
 "metadata": {
  "kernelspec": {
   "display_name": "Python 3 (ipykernel)",
   "language": "python",
   "name": "python3"
  },
  "language_info": {
   "codemirror_mode": {
    "name": "ipython",
    "version": 3
   },
   "file_extension": ".py",
   "mimetype": "text/x-python",
   "name": "python",
   "nbconvert_exporter": "python",
   "pygments_lexer": "ipython3",
   "version": "3.10.11"
  }
 },
 "nbformat": 4,
 "nbformat_minor": 5
}
